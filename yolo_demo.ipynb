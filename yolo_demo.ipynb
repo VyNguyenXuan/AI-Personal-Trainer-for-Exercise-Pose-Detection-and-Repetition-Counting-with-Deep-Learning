{
 "cells": [
  {
   "cell_type": "code",
   "execution_count": 8,
   "id": "ad2d725e",
   "metadata": {},
   "outputs": [
    {
     "name": "stdout",
     "output_type": "stream",
     "text": [
      "Using device: cuda\n"
     ]
    },
    {
     "name": "stderr",
     "output_type": "stream",
     "text": [
      "Model summary (fused): 168 layers, 11127519 parameters, 0 gradients, 28.4 GFLOPs\n"
     ]
    },
    {
     "name": "stdout",
     "output_type": "stream",
     "text": [
      "Hết video hoặc lỗi đọc frame\n",
      "Hoàn tất inference và hiển thị.\n"
     ]
    }
   ],
   "source": [
    "import cv2\n",
    "import torch\n",
    "from ultralytics import YOLO\n",
    "\n",
    "import ultralytics.utils.loss as loss_mod\n",
    "import torch\n",
    "import torch.nn as nn\n",
    "\n",
    "# 1. Tạo stub DFLoss để torch.load không lỗi\n",
    "class DFLoss(nn.Module):\n",
    "    def __init__(self, *args, **kwargs):\n",
    "        super().__init__()\n",
    "    def forward(self, preds, targets, *args, **kwargs):\n",
    "        return torch.tensor(0.0, device=preds.device)\n",
    "\n",
    "loss_mod.DFLoss = DFLoss\n",
    "# 1. Thiết lập device\n",
    "device = 'cuda' if torch.cuda.is_available() else 'cpu'\n",
    "print(f\"Using device: {device}\")\n",
    "\n",
    "# 2. Load YOLO model\n",
    "model = YOLO('epoch201.pt')\n",
    "model.model.fuse()\n",
    "model.to(device)\n",
    "if device == 'cuda':\n",
    "    model.model.half()\n",
    "\n",
    "# 3. Mở video input và khởi tạo writer\n",
    "video_path = '7570900295992398706.mp4'\n",
    "cap = cv2.VideoCapture(video_path)\n",
    "if not cap.isOpened():\n",
    "    raise IOError(f\"Không mở được video {video_path}\")\n",
    "\n",
    "fps = cap.get(cv2.CAP_PROP_FPS)\n",
    "w   = int(cap.get(cv2.CAP_PROP_FRAME_WIDTH))\n",
    "h   = int(cap.get(cv2.CAP_PROP_FRAME_HEIGHT))\n",
    "\n",
    "fourcc = cv2.VideoWriter_fourcc(*'mp4v')\n",
    "out = cv2.VideoWriter('output1.mp4', fourcc, fps, (w, h))\n",
    "if not out.isOpened():\n",
    "    raise IOError(\"Không mở được VideoWriter\")\n",
    "\n",
    "# 4. Màu cho các class (có thể mở rộng tuỳ số class)\n",
    "colors = [(255,0,0), (0,255,0), (0,0,255), (255,255,0), (0,255,255)]\n",
    "\n",
    "# 5. Vòng lặp đọc, infer và hiển thị\n",
    "with torch.no_grad():\n",
    "    while True:\n",
    "        ret, frame = cap.read()\n",
    "        if not ret:\n",
    "            print(\"Hết video hoặc lỗi đọc frame\")\n",
    "            break\n",
    "\n",
    "        # Resize nếu cần (mặc định giữ nguyên kích thước)\n",
    "        # frame = cv2.resize(frame, (w, h))\n",
    "\n",
    "        # Inference\n",
    "        results = model.predict(\n",
    "            source=frame,\n",
    "            device=device,\n",
    "            half=(device=='cuda'),\n",
    "            conf=0.25,\n",
    "            verbose=False\n",
    "        )[0]\n",
    "\n",
    "        # Vẽ bounding box và label\n",
    "        for box in results.boxes:\n",
    "            x1, y1, x2, y2 = box.xyxy[0].cpu().numpy().astype(int)\n",
    "            cls_id         = int(box.cls[0])\n",
    "            conf           = float(box.conf[0])\n",
    "            color          = colors[cls_id % len(colors)]\n",
    "            label          = f\"{model.names[cls_id]} {conf:.2f}\"\n",
    "\n",
    "            cv2.rectangle(frame, (x1, y1), (x2, y2), color, 2)\n",
    "            cv2.putText(\n",
    "                frame, label, (x1, y1 - 6),\n",
    "                cv2.FONT_HERSHEY_SIMPLEX, 0.5, color, 1\n",
    "            )\n",
    "\n",
    "        # Hiển thị khung hình\n",
    "        cv2.imshow('YOLO Inference', frame)\n",
    "        if cv2.waitKey(1) & 0xFF == ord('q'):\n",
    "            print(\"Ngắt bởi người dùng\")\n",
    "            break\n",
    "\n",
    "        # Ghi vào file output\n",
    "        out.write(frame)\n",
    "\n",
    "# 6. Giải phóng tài nguyên\n",
    "cap.release()\n",
    "out.release()\n",
    "cv2.destroyAllWindows()\n",
    "\n",
    "print(\"Hoàn tất inference và hiển thị.\")\n"
   ]
  }
 ],
 "metadata": {
  "kernelspec": {
   "display_name": "watermeter",
   "language": "python",
   "name": "python3"
  },
  "language_info": {
   "codemirror_mode": {
    "name": "ipython",
    "version": 3
   },
   "file_extension": ".py",
   "mimetype": "text/x-python",
   "name": "python",
   "nbconvert_exporter": "python",
   "pygments_lexer": "ipython3",
   "version": "3.11.9"
  }
 },
 "nbformat": 4,
 "nbformat_minor": 5
}
